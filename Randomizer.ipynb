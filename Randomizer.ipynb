{
  "nbformat": 4,
  "nbformat_minor": 0,
  "metadata": {
    "colab": {
      "provenance": []
    },
    "kernelspec": {
      "name": "python3",
      "display_name": "Python 3"
    },
    "language_info": {
      "name": "python"
    }
  },
  "cells": [
    {
      "cell_type": "markdown",
      "source": [
        "Randomizer"
      ],
      "metadata": {
        "id": "Fjkzqw2jv-ZU"
      }
    },
    {
      "cell_type": "code",
      "execution_count": 1,
      "metadata": {
        "id": "5VvbPaNPv9Zj",
        "colab": {
          "base_uri": "https://localhost:8080/"
        },
        "outputId": "17a4996f-9385-4a87-b2ae-252d27e229f6"
      },
      "outputs": [
        {
          "output_type": "stream",
          "name": "stdout",
          "text": [
            "You've Been Randomly Selected to Share Next: Rita\n"
          ]
        }
      ],
      "source": [
        "#For Practice\n",
        "#Chris recorded his testimony and agreed to go first, but the rest of us will\n",
        "#be chosen by a randomizer, this is how it works.\n",
        "\n",
        "import random\n",
        "\n",
        "# Randomly select one person at a time from the list\n",
        "Studying_Mark_list = ['Brian', 'Tricia', 'Rita']\n",
        "random_choice = random.choice(Studying_Mark_list)\n",
        "print(f\"You've Been Randomly Selected to Share Next: {random_choice}\")\n"
      ]
    },
    {
      "cell_type": "code",
      "source": [
        "#For Real, in Larger Font\n",
        "!pip install pyfiglet==0.8.post1\n",
        "from pyfiglet import figlet_format\n",
        "import random\n",
        "\n",
        "# Randomly select three people from the list\n",
        "Studying_Mark_list = ['Brian', 'Tricia', 'Rita']\n",
        "random_choices = random.sample(Studying_Mark_list, 3)\n",
        "\n",
        "large_text = figlet_format(f\"You've Been Randomly Selected to Share in This Order: {', '.join(random_choices)}\")\n",
        "blue_large_text = f\"\\033[34m{large_text}\\033[0m\"\n",
        "print(blue_large_text)\n"
      ],
      "metadata": {
        "colab": {
          "base_uri": "https://localhost:8080/"
        },
        "id": "CDiwmsJNxXrU",
        "outputId": "8be3f4a3-6514-4272-a624-77c572bb84d3"
      },
      "execution_count": 2,
      "outputs": [
        {
          "output_type": "stream",
          "name": "stdout",
          "text": [
            "Collecting pyfiglet==0.8.post1\n",
            "  Downloading pyfiglet-0.8.post1-py2.py3-none-any.whl.metadata (1.3 kB)\n",
            "Downloading pyfiglet-0.8.post1-py2.py3-none-any.whl (865 kB)\n",
            "\u001b[?25l   \u001b[90m━━━━━━━━━━━━━━━━━━━━━━━━━━━━━━━━━━━━━━━━\u001b[0m \u001b[32m0.0/865.8 kB\u001b[0m \u001b[31m?\u001b[0m eta \u001b[36m-:--:--\u001b[0m\r\u001b[2K   \u001b[91m━━━━━\u001b[0m\u001b[90m╺\u001b[0m\u001b[90m━━━━━━━━━━━━━━━━━━━━━━━━━━━━━━━━━━\u001b[0m \u001b[32m112.6/865.8 kB\u001b[0m \u001b[31m3.1 MB/s\u001b[0m eta \u001b[36m0:00:01\u001b[0m\r\u001b[2K   \u001b[91m━━━━━━━━━━━━━━━━━━━━━━━━━━━━━━━━━━━\u001b[0m\u001b[90m╺\u001b[0m\u001b[90m━━━━\u001b[0m \u001b[32m757.8/865.8 kB\u001b[0m \u001b[31m11.4 MB/s\u001b[0m eta \u001b[36m0:00:01\u001b[0m\r\u001b[2K   \u001b[90m━━━━━━━━━━━━━━━━━━━━━━━━━━━━━━━━━━━━━━━━\u001b[0m \u001b[32m865.8/865.8 kB\u001b[0m \u001b[31m8.8 MB/s\u001b[0m eta \u001b[36m0:00:00\u001b[0m\n",
            "\u001b[?25hInstalling collected packages: pyfiglet\n",
            "Successfully installed pyfiglet-0.8.post1\n",
            "\u001b[34m__   __          _             ____                  \n",
            "\\ \\ / /__  _   _( )_   _____  | __ )  ___  ___ _ __  \n",
            " \\ V / _ \\| | | |/\\ \\ / / _ \\ |  _ \\ / _ \\/ _ \\ '_ \\ \n",
            "  | | (_) | |_| |  \\ V /  __/ | |_) |  __/  __/ | | |\n",
            "  |_|\\___/ \\__,_|   \\_/ \\___| |____/ \\___|\\___|_| |_|\n",
            "                                                     \n",
            " ____                 _                 _       \n",
            "|  _ \\ __ _ _ __   __| | ___  _ __ ___ | |_   _ \n",
            "| |_) / _` | '_ \\ / _` |/ _ \\| '_ ` _ \\| | | | |\n",
            "|  _ < (_| | | | | (_| | (_) | | | | | | | |_| |\n",
            "|_| \\_\\__,_|_| |_|\\__,_|\\___/|_| |_| |_|_|\\__, |\n",
            "                                          |___/ \n",
            " ____       _           _           _   _          ____  _                    \n",
            "/ ___|  ___| | ___  ___| |_ ___  __| | | |_ ___   / ___|| |__   __ _ _ __ ___ \n",
            "\\___ \\ / _ \\ |/ _ \\/ __| __/ _ \\/ _` | | __/ _ \\  \\___ \\| '_ \\ / _` | '__/ _ \\\n",
            " ___) |  __/ |  __/ (__| ||  __/ (_| | | || (_) |  ___) | | | | (_| | | |  __/\n",
            "|____/ \\___|_|\\___|\\___|\\__\\___|\\__,_|  \\__\\___/  |____/|_| |_|\\__,_|_|  \\___|\n",
            "                                                                              \n",
            " _         _____ _     _        ___          _             \n",
            "(_)_ __   |_   _| |__ (_)___   / _ \\ _ __ __| | ___ _ __ _ \n",
            "| | '_ \\    | | | '_ \\| / __| | | | | '__/ _` |/ _ \\ '__(_)\n",
            "| | | | |   | | | | | | \\__ \\ | |_| | | | (_| |  __/ |   _ \n",
            "|_|_| |_|   |_| |_| |_|_|___/  \\___/|_|  \\__,_|\\___|_|  (_)\n",
            "                                                           \n",
            " _____     _      _           ____       _                 ____  _ _        \n",
            "|_   _| __(_) ___(_) __ _    | __ ) _ __(_) __ _ _ __     |  _ \\(_) |_ __ _ \n",
            "  | || '__| |/ __| |/ _` |   |  _ \\| '__| |/ _` | '_ \\    | |_) | | __/ _` |\n",
            "  | || |  | | (__| | (_| |_  | |_) | |  | | (_| | | | |_  |  _ <| | || (_| |\n",
            "  |_||_|  |_|\\___|_|\\__,_( ) |____/|_|  |_|\\__,_|_| |_( ) |_| \\_\\_|\\__\\__,_|\n",
            "                         |/                           |/                    \n",
            "\u001b[0m\n"
          ]
        }
      ]
    }
  ]
}